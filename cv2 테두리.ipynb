{
 "cells": [
  {
   "cell_type": "code",
   "execution_count": 5,
   "id": "1f813374",
   "metadata": {},
   "outputs": [
    {
     "data": {
      "text/plain": [
       "-1"
      ]
     },
     "execution_count": 5,
     "metadata": {},
     "output_type": "execute_result"
    }
   ],
   "source": [
    "import cv2\n",
    "import numpy as np\n",
    "image=cv2.imread(\"C:/Users/chosun/Desktop/cat.jpg\",1)\n",
    "\n",
    "\n",
    "te=cv2.Canny(image,99,99)\n",
    "cv2.imshow('img',te)\n",
    "cv2.waitKey()"
   ]
  },
  {
   "cell_type": "markdown",
   "id": "b999c9ca",
   "metadata": {},
   "source": [
    "# canny를 이용하여 윤관선 추출\n",
    "### cv2.Canny(gray_img, threshold1, threshold2)\n",
    "1.threshold1와 threshold2 어느쪽도 엣지 여부의 판단하는 임계값을 나타내고 있다. 클수록 엣지가 검출되기 어렵고, 작을 수록 엣지가 검출되기 쉽다\n",
    "\n",
    "2. threshold1 : 다른 엣지와의 인접 부분(엣지가 되기 쉬운 부분)에 있어 엣지인지 아닌지를 판단하는 임계값\n",
    "3. threshold2 : 엣지인지 아닌지를 판단하는 임계값"
   ]
  },
  {
   "cell_type": "code",
   "execution_count": null,
   "id": "3d9ec188",
   "metadata": {},
   "outputs": [],
   "source": []
  }
 ],
 "metadata": {
  "kernelspec": {
   "display_name": "Python 3 (ipykernel)",
   "language": "python",
   "name": "python3"
  },
  "language_info": {
   "codemirror_mode": {
    "name": "ipython",
    "version": 3
   },
   "file_extension": ".py",
   "mimetype": "text/x-python",
   "name": "python",
   "nbconvert_exporter": "python",
   "pygments_lexer": "ipython3",
   "version": "3.9.7"
  }
 },
 "nbformat": 4,
 "nbformat_minor": 5
}
